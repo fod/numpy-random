{
 "cells": [
  {
   "cell_type": "markdown",
   "metadata": {},
   "source": [
    "# The numpy.random Package\n",
    "\n",
    "## Overview"
   ]
  },
  {
   "cell_type": "code",
   "execution_count": 30,
   "metadata": {},
   "outputs": [
    {
     "name": "stdout",
     "output_type": "stream",
     "text": [
      "[ 2  1  1  1  1  1  2  1  1  1  2  1  3  2  1  1  3  1  1  2  1  1  1  1\n",
      "  1  1  1  1  1  1  3  1  1  1  9  1  1  1  1  1  1 15  1  1  1  1  1  2\n",
      "  1  1  3  3  1  1  1  1  1  1  1  1  1  1  2  3  3  3  2  1  1  1  1  2\n",
      "  1  1  1  1  1  1  1  1  2  2  1  1  1  1  1  1  1  1  1  6  1  1  1  1\n",
      "  5  3  1  1  1  3  1  1  1  1  1  1  1  1  2  2  1  2  1  1  1  1  1  1\n",
      "  1  1  1  1  1  1  2  1  1  1  1  1  1  1  1  1  1  2  1  1  1  1  1  1\n",
      "  1  1  1  1 13  1  1  1  1 22  1  2  1  1  1  2  1  1  1  1  1  1  1  1\n",
      "  1  1  1  1  1  7  2  1  2  2  1  1  1  1  1  1  1  1  1  2  1 16  1  1\n",
      "  1  2  2  1  1  1  1  1  1  1  1  1  1  2  1  1  1  2  1  1  1  1  2  1\n",
      "  1  1  1  1  8  1  1  1  3  1  1 25  1  1  1  1  3  2  2 10  1  1  1  1\n",
      "  4  2  1  1  1  1  1  2  5  1  1  1  4  1  1  1  1  2  1  1  1  1  1  1\n",
      "  1  1  1  1  1  1  1  4  6  1  1  2  1  1  3  1  1  1  3  2  1  2  1  1\n",
      "  1  1  3  1  1  1  1  1  1  1  2  1  6  1  1  2  1  1  1  1  1  1  1  6\n",
      "  2  1  1  1  1  1  1  1  1  1  1  1  1  2  1  1  2  1  1 10  1  1  1  1\n",
      "  1  1  1  3  1  1 10  1  1  1  1  1  1  4  1  8  1  4  1  1  2  1  1  1\n",
      "  1  4  1  1  1  1  1  1  1  1  1  1  1  1  1  3  1  1  2  1  1  2  4  1\n",
      "  1  1  3  1  1  1  2  2  1  1  1  3  1  1  1  1  1  1  6  1  3  1  1  1\n",
      "  1  3  3  1  1  1  3  1  1  1  1  1  1  1  1  1  2  2  1  1  1  1  1  1\n",
      "  1  1  1  1  8  1  1  1  2  1  1  2  1  1  2  1  1  2  2  1  1  1  1  2\n",
      "  1  4  1  2 11  1  1  1  2  2  1  8  1  1  2  4  2  1  1  1  1  1  1  1\n",
      "  5  1  1  1  1  1  1  1  1  1  1  1  8  1  1  1  1  2  2  1  1  1 12  1\n",
      "  1  2  2  1  1  1  1  1  1  1  1  5  2  1  1  1  5  1  1  1  1  1  3  1\n",
      "  1  1  1  2  2  1  1  1  1  3  1  2  1  1  1  1  1  1  1  7  1  1  1  1\n",
      "  2  2  3  1  1  1  1  1  1  3  1  1  1  1  3  1  1  2  1  1  6  1  1  1\n",
      "  1  1  1  3  1  1  1  1  1  1  2  1  1  1  1  1  1  1  1  2  7  1  1  2\n",
      "  2  3  1  1  1  1  1  3  2  1  4  1  1  2  1  1  1  1  1 15  1  1  1  3\n",
      "  2  1  1  1  1  1  1  2  1  1  1  1  1  1  3  2  1  1  1  1  1  1  1  1\n",
      "  1  3  1  1  1  2  1  1  1  1  1  1  1  4  2  1  2  1  4  1  2  1  2  1\n",
      "  1  1  1  8  5  1 11  1  2  1  1  1  1  1  1  1  1  1  4  2  1  2  1  2\n",
      "  1  1  6  1  2  1  1  1  1  2  2  1  8  1  1  1  1  1  1  1  1  1  1  1\n",
      "  1  1  1  1  2  3  2  1  1  1  2  4  1  1  1  4  1  1  1  1  1  1  1  1\n",
      "  3  1  2  1  1  1  1  1  1  1  1  1  1  1  1  1  1  1  1  1  1  1  2  1\n",
      "  1  1  1  1  1  1  1  1  1  2  1  1  1  1  1  3  1  5  3  3  1  1  1  1\n",
      "  1  1  3  1  1  1  1  1  6  1  1  2  1  1  4  1  1  1  1  1  1  1  1  1\n",
      "  1  1  1  1  1  1  1  9  1  1  1  1  1  1  3  1  1  2  1  1  1  1  3  6\n",
      "  1  1  1  1  1  1  1  2  1  2  1  1  1  5  2  3  2  1  2  4  2  1  1  2\n",
      "  1  2  3  1  1  1  1  1  1  1  1  1  1  1  1  1  1  1  1  1  2  1  1  2\n",
      "  1  1  1  2  1  1  3  1  1  2  7  1  2 21  1  1  1  1  1  1  1  2  1  1\n",
      "  1  2  6  1  1  1  4  1  1  3  1  1  1  2  1  2  1  1  2  2  1  6 17  1\n",
      "  2  1  1  1  1  1  1  4  1  1  1  1  1  3  3  1  1  1  4  1  1  1  1  1\n",
      "  1  1  1 10 13  1  2  3  2  1  2  1  1  1  2  2  1  1  1  1  1  1  1  1\n",
      "  1  1  1  1  1  1  2  1  7  3  2  1  1  1  1  9]\n"
     ]
    }
   ],
   "source": [
    "import numpy as np\n",
    "from numpy.random import default_rng\n",
    "\n",
    "rng = default_rng()\n",
    "vals = rng.zipf(2.5,1000)\n",
    "print(vals)"
   ]
  },
  {
   "cell_type": "code",
   "execution_count": 42,
   "metadata": {},
   "outputs": [
    {
     "data": {
      "image/png": "[encoded data removed]",
      "text/plain": [
       "<Figure size 432x288 with 1 Axes>"
      ]
     },
     "metadata": {
      "needs_background": "light"
     },
     "output_type": "display_data"
    }
   ],
   "source": [
    "import matplotlib.pyplot as plt\n",
    "plt.hist(vals, bins=50)\n",
    "plt.show()"
   ]
  },
  {
   "cell_type": "markdown",
   "metadata": {},
   "source": [
    "## Simple random data"
   ]
  },
  {
   "cell_type": "markdown",
   "metadata": {},
   "source": [
    "### `integers`"
   ]
  },
  {
   "cell_type": "markdown",
   "metadata": {},
   "source": [
    "### `random`"
   ]
  },
  {
   "cell_type": "markdown",
   "metadata": {},
   "source": [
    "### `choice`"
   ]
  },
  {
   "cell_type": "markdown",
   "metadata": {},
   "source": [
    "### `bytes`"
   ]
  },
  {
   "cell_type": "markdown",
   "metadata": {},
   "source": [
    "## Permutations"
   ]
  },
  {
   "cell_type": "markdown",
   "metadata": {},
   "source": [
    "### `shuffle`"
   ]
  },
  {
   "cell_type": "markdown",
   "metadata": {},
   "source": [
    "### `permute`"
   ]
  },
  {
   "cell_type": "markdown",
   "metadata": {},
   "source": [
    "### `permuted`"
   ]
  },
  {
   "cell_type": "markdown",
   "metadata": {},
   "source": [
    "## Some distribution functions"
   ]
  },
  {
   "cell_type": "markdown",
   "metadata": {},
   "source": [
    "### 1. The Gumbel Distribution\n",
    "#### `random.Generator.gumbel`\n",
    "$$ p(x)=\\frac{e^{-(x-\\mu)/\\beta}}{\\beta}e^{-e^{-(x-\\mu)/\\beta}} $$\n",
    "\n"
   ]
  },
  {
   "cell_type": "markdown",
   "metadata": {},
   "source": [
    "### 2."
   ]
  },
  {
   "cell_type": "markdown",
   "metadata": {},
   "source": [
    "### 3."
   ]
  },
  {
   "cell_type": "markdown",
   "metadata": {},
   "source": [
    "### 4."
   ]
  },
  {
   "cell_type": "markdown",
   "metadata": {},
   "source": [
    "### 5."
   ]
  },
  {
   "cell_type": "markdown",
   "metadata": {},
   "source": [
    "## Seeds\n",
    "\n",
    "PCG64 Details\n",
    "Comparison between PCG64 and Mersenne Twister with focus on on performance (i.e. how does PCG64 outperform MT19937?)\n",
    "\n",
    "Setting seeds in numpy rng"
   ]
  },
  {
   "cell_type": "markdown",
   "metadata": {},
   "source": [
    "***\n",
    "## References\n",
    "\n",
    "### PCG\n",
    "Lemire, D., 2017, On Melissa O’Neill’s PCG random number generator, https://lemire.me/blog/2017/08/15/on-melissa-oneills-pcg-random-number-generator/\n",
    "\n",
    "O' Neill, M., 2014, PCG, A Family of Better Random Number Generators, https://www.pcg-random.org/\n",
    "\n",
    "O' Neill, M., 2014, PCG: A Family of Simple Fast Space-Efficient Statistically Good Algorithms for Random Number Generation, https://www.pcg-random.org/pdf/hmc-cs-2014-0905.\n",
    "\n",
    "### RNG Seeding\n",
    "Woodcock, H., 2021, Stop using numpy.random.seed(), https://towardsdatascience.com/stop-using-numpy-random-seed-581a9972805f\n",
    "\n",
    "Ebner, J., 2019, NumPy Random Seed, Explained, https://www.sharpsightlabs.com/blog/numpy-random-seed/"
   ]
  },
  {
   "cell_type": "markdown",
   "metadata": {},
   "source": []
  }
 ],
 "metadata": {
  "interpreter": {
   "hash": "da9e039210d5e53844848fc529c2cb75fb923182e70608e0bc692989d752dbae"
  },
  "kernelspec": {
   "display_name": "Python 3.9.7 64-bit ('.venv': venv)",
   "name": "python3"
  },
  "language_info": {
   "codemirror_mode": {
    "name": "ipython",
    "version": 3
   },
   "file_extension": ".py",
   "mimetype": "text/x-python",
   "name": "python",
   "nbconvert_exporter": "python",
   "pygments_lexer": "ipython3",
   "version": "3.9.7"
  },
  "orig_nbformat": 4
 },
 "nbformat": 4,
 "nbformat_minor": 2
}
