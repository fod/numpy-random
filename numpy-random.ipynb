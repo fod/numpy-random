{
 "cells": [
  {
   "cell_type": "markdown",
   "metadata": {},
   "source": [
    "1. Explain the overall purpose of the package.\n",
    "2. Explain the use of the “Simple random data” and “Permutations” functions.\n",
    "3. Explain the use and purpose of at least five “Distributions” functions.\n",
    "4. Explain the use of seeds in generating pseudorandom numbers."
   ]
  },
  {
   "cell_type": "markdown",
   "metadata": {
    "tags": []
   },
   "source": [
    "# The numpy.random Package\n",
    "\n",
    "## Introduction \n",
    "### True random number generation\n",
    "\n",
    "True random number generation is not a simple matter. It is difficult to find phenomena that are unpredictable to the extent that they can provide a long-lasting stream of data from which truly random numbers can be derived. Many applications require cryptographically secure random number generation and there is much research into sources of entropy as diverse as spontaneous chaotic oscillations in semiconductor superlattices [11], atmospheric noise [12], and synthesised DNA strands composed of random nucleotides [13] for the purposes of random number generation. Computer programmes are by nature deterministic making it difficult to generate truly unpredictable random numbers without some external source of entropy. True random number generators attempting to use, for example, the electromagnetic noise arising from current flow across a transistor, must process the signal to remove bias and make uniform, in a manner that controls for many diverse effects such as, for example, temperature and voltage fluctuations, if the numbers generated are to be relied upon as truly random. Failing to do so could introduce inadvertent predictability or provide a route for bad actors to influence the random bit stream [14].\n",
    "\n",
    "### Pseudorandom number generation and Seeding\n",
    "For many, or even most, applications, a pseudorandom number generator (PRNG) with the appropriate properties will suffice. A PRNG, also known as a *deterministic* random *bit generator* [15], is an algorithm that, given some initial value, known as a seed, manipulates that seed in some way, then iteratively manipulates the result of that manipulation, and so on, to produce a stream of random bits from which samples can be drawn. Melissa O' Neill, creator of the PCG family of PRNG algorithms, one of which, PCG64, is the default `numpy.random` PRNG, uses the analogy of an enormous book of numbers from which the random numbers are drawn. While all of the numbers in the book are accessible to anyone, the chances of finding the particular page on which a particular sequence of numbers commences are infinitesimal. However, if the page, line, and character number at which to begin was provided, reproducing a sequence of numbers would be easy. Pseudorandom number generators are akin to this book in the sense that they are deterministically produced using a single value as a starting point. The PRNG analogue to the location of the beginning of the random number sequence in the book of numbers is the seed.\n",
    "\n",
    "## Overview\n",
    "The purpose of the `numpy.random` package is to provide an interface to a number of PRNGs and the sub-package of the numpy numerical computing Python package that deals with random (really pseudo-random [1]) number generation and random processes such as shuffling, and selecting random items from, sequences. Two classes `numpy.random.BitGenerator` and `numpy.random.Generator` are used together to generate pseudo random numbers. `Generator` can be instantiated in two ways;\n",
    "\n",
    "1. by calling the constructor with the name of the desired BitGenerator algorithm, or;\n",
    "1. by calling `numpy.random.default_rng()`, a convenience function which will return a `Generator` object instantiated with the default `BitGenerator`, currently PCG64 [1]  \n",
    "\n",
    "The second method is the one recommended by the numpy documentation [1].\n",
    "\n",
    "`numpy.random.BitGenerator` is the base class for all of the bit generators provided by the numpy package. It is an abstract class and so cannot be instantiated. Several BitGenerators are provided by numpy. Of particular interest are `PCG64`, the default `numpy.random` BitGenerator, and `MT19937`, also known as the *Mersenne Twister*[1], the Python language's standard BitGenerator[1]. The `BitGenerator` base class provides the attribute `seed` which is used to initialise whichever BitGenerator is instantiated so that the sequence of numbers it produces are deterministic and therefore reproduceable[8]. If no seed is passed one is generated from system entropy[9]. Whether a seed is passed or not, the `numpy.random.SeedSequence` class is used to generate the `BitGenerator`'s initial state [9]. "
   ]
  },
  {
   "cell_type": "code",
   "execution_count": 1,
   "metadata": {},
   "outputs": [],
   "source": [
    "# Imports\n",
    "import numpy as np\n",
    "# Used to initialise current default BitGenerator\n",
    "from numpy.random import default_rng\n",
    "# Used to initialise any available BitGenerator\n",
    "from numpy.random import Generator\n",
    "# Two of numpy's BitGenerators\n",
    "from numpy.random import PCG64, MT19937\n",
    "# For plotting distributions, etc\n",
    "import matplotlib.pyplot as plt\n",
    "\n",
    "from tabulate import tabulate\n",
    "from faker import Faker"
   ]
  },
  {
   "cell_type": "markdown",
   "metadata": {},
   "source": [
    "The recommended method for intialising a random number generator is with the `numpy.random.default_rng()` function [1]. This returns a `Generator` object. The `Generator`'s bit generator can be accessed via its `bit_generator` attribute. It can be seen here that calling `default_rng` has returned a `Generator` intitialised with the `PCG64` bit generator."
   ]
  },
  {
   "cell_type": "code",
   "execution_count": 2,
   "metadata": {},
   "outputs": [
    {
     "name": "stdout",
     "output_type": "stream",
     "text": [
      "Type returned by default_rng():\t\t<class 'numpy.random._generator.Generator'>\n",
      "BitGenerator returned by default_rng():\t<class 'numpy.random._pcg64.PCG64'>\n"
     ]
    }
   ],
   "source": [
    "# Initialise Generator with default \n",
    "# BitGenerator (PCG64) with seed 0\n",
    "rng = default_rng(99)\n",
    "print(f\"Type returned by default_rng():\\t\\t{type(rng)}\")\n",
    "print(f\"BitGenerator returned by default_rng():\\t{type(rng.bit_generator)}\")"
   ]
  },
  {
   "cell_type": "markdown",
   "metadata": {},
   "source": [
    "The bit generator's state can be inspected with it's `state` attribute. The long numerical value keyed by 'state' is dependent on where in its deterministic raw pseudo-random number production journey it is. This number changes every time the bit generator is asked to produce a number. The value keyed by 'inc' encodes the generator's seed and only changes when the seed is changed."
   ]
  },
  {
   "cell_type": "code",
   "execution_count": null,
   "metadata": {},
   "outputs": [],
   "source": []
  },
  {
   "cell_type": "markdown",
   "metadata": {},
   "source": [
    "It is not usually necessary to directly access the bit generator or its state but it does have one potentially very useful application in that the state can be saved and reloaded to a generator, as is demonstrated below."
   ]
  },
  {
   "cell_type": "code",
   "execution_count": 3,
   "metadata": {},
   "outputs": [
    {
     "name": "stdout",
     "output_type": "stream",
     "text": [
      "State of BitGenerator returned by default_rng(99):\n"
     ]
    },
    {
     "data": {
      "text/plain": [
       "{'bit_generator': 'PCG64',\n",
       " 'state': {'state': 323145379500794079207071596454411015148,\n",
       "  'inc': 324459057272246375853630270025492255805},\n",
       " 'has_uint32': 0,\n",
       " 'uinteger': 0}"
      ]
     },
     "metadata": {},
     "output_type": "display_data"
    }
   ],
   "source": [
    "print(\"State of BitGenerator returned by default_rng(99):\")\n",
    "display(rng.bit_generator.state)\n",
    "# save current state\n",
    "rng_state = rng.bit_generator.state"
   ]
  },
  {
   "cell_type": "code",
   "execution_count": 4,
   "metadata": {},
   "outputs": [
    {
     "data": {
      "text/plain": [
       "{'bit_generator': 'PCG64',\n",
       " 'state': {'state': 11607301629772418470589250363990540111,\n",
       "  'inc': 192125070931162442586999384573477323425},\n",
       " 'has_uint32': 0,\n",
       " 'uinteger': 0}"
      ]
     },
     "metadata": {},
     "output_type": "display_data"
    }
   ],
   "source": [
    "# Instantiate a new rng\n",
    "new_rng = np.random.default_rng()\n",
    "# View the state\n",
    "display(new_rng.bit_generator.state)"
   ]
  },
  {
   "cell_type": "code",
   "execution_count": 5,
   "metadata": {},
   "outputs": [
    {
     "data": {
      "text/plain": [
       "{'bit_generator': 'PCG64',\n",
       " 'state': {'state': 323145379500794079207071596454411015148,\n",
       "  'inc': 324459057272246375853630270025492255805},\n",
       " 'has_uint32': 0,\n",
       " 'uinteger': 0}"
      ]
     },
     "metadata": {},
     "output_type": "display_data"
    }
   ],
   "source": [
    "# Apply the saved rng state to the new rng\n",
    "new_rng.bit_generator.state = rng_state\n",
    "# The new rng state is now the same as the original\n",
    "display(new_rng.bit_generator.state)"
   ]
  },
  {
   "cell_type": "markdown",
   "metadata": {},
   "source": [
    "The `Generator` will usually be instantiated with a seed argument in order to produce reproducible random numbers. Naturally, different `BitGenerators` will produce different sequences of numbers despite having the same seed."
   ]
  },
  {
   "cell_type": "code",
   "execution_count": 6,
   "metadata": {},
   "outputs": [
    {
     "name": "stdout",
     "output_type": "stream",
     "text": [
      "10 random integers from first pcg64 generator:    [8 6 5 2 3 0 0 0 1 8]\n",
      "10 random integers from second pcg64 generator:   [8 6 5 2 3 0 0 0 1 8]\n",
      "10 random integers from first mt19937 generator:  [4 6 2 4 0 3 5 8 0 3]\n",
      "10 random integers from second mt19937 generator: [4 6 2 4 0 3 5 8 0 3]\n"
     ]
    }
   ],
   "source": [
    "rng_pcg64_1 = Generator(PCG64(0))\n",
    "rng_pcg64_2 = Generator(PCG64(0))\n",
    "rng_mt19937_1 = Generator(MT19937(0))\n",
    "rng_mt19937_2 = Generator(MT19937(0))\n",
    "print(f\"10 random integers from first pcg64 generator:    {rng_pcg64_1.integers(0,10, 10)}\")\n",
    "print(f\"10 random integers from second pcg64 generator:   {rng_pcg64_2.integers(0,10, 10)}\")\n",
    "print(f\"10 random integers from first mt19937 generator:  {rng_mt19937_1.integers(0,10, 10)}\")\n",
    "print(f\"10 random integers from second mt19937 generator: {rng_mt19937_2.integers(0,10, 10)}\")"
   ]
  },
  {
   "cell_type": "markdown",
   "metadata": {},
   "source": [
    "It is possible to take peek at the raw stream of numbers from which the higher level methods draw their samples."
   ]
  },
  {
   "cell_type": "code",
   "execution_count": 7,
   "metadata": {},
   "outputs": [
    {
     "name": "stdout",
     "output_type": "stream",
     "text": [
      "[11749869230777074271  4976686463289251617   755828109848996024\n",
      "   304881062738325533 15002187965291974971 16837368535893154894\n",
      " 11190454901533422207 13456836363123071557 10028111089635196863\n",
      " 17249041691996241901]\n"
     ]
    }
   ],
   "source": [
    "pcg64 = PCG64(0)\n",
    "print(pcg64.random_raw(10))"
   ]
  },
  {
   "cell_type": "markdown",
   "metadata": {},
   "source": [
    "Finally, as mentioned previously, where a seed is not supplied `numpy.random.SeedSequence` is used to generate a random seed using system entropy such as the precise core temperature. We can view the number generated "
   ]
  },
  {
   "cell_type": "code",
   "execution_count": 8,
   "metadata": {},
   "outputs": [
    {
     "name": "stdout",
     "output_type": "stream",
     "text": [
      "71195896611461816056111873954285815178\n"
     ]
    }
   ],
   "source": [
    "ss = np.random.SeedSequence()\n",
    "print(ss.entropy)"
   ]
  },
  {
   "cell_type": "markdown",
   "metadata": {},
   "source": [
    "## Creating simple random data with `numpy.random`\n",
    "The `Generator` class provides four methods for generating collections of random numbers when the probability distributions of those numbers is not important: `integers()`, which generates integers, `random()`, which generates floats,`choice()` which returns random selections from a passed list, and `bytes()`, which generates a string of random bytes."
   ]
  },
  {
   "cell_type": "markdown",
   "metadata": {},
   "source": [
    "### `numpy.random.Generator.integers()`\n",
    "Signature : `integers(low, high=None, size=None, dtype=np.int64, endpoint=False)`"
   ]
  },
  {
   "cell_type": "markdown",
   "metadata": {},
   "source": [
    "This method generates random integers in the interval $[low, high)$. It will return a single integer if called with one or two arguments. If called with one numeric argument, $a$ it will return an integer in the interval $[0, a)$, or, if the boolean argument `endpoint` is `True`, $[0, a]$. If called with two numeric arguments, $a, b$, the integer returned will be in the interval $[a, b)$; or $[a, b]$ if `endpoint=True`.\n",
    "\n",
    "The method will return an array of random integers in the requested interval if given an argument for the `size` parameter. A single value will be interpreted as a length for a *1-d* array. A tuple will be interpreted as dimension sizes for an *n-d* array. Finally, an array-like data structure can be passed as the low or high range arguments in which case each member of the array will be interpreted as the low or high value for that element of an array of random integers.\n",
    "\n",
    "The integers returned by this method follow a discrete uniform distribution, meaning that the number of possible values is countable and that each possible value is equally likely to occur."
   ]
  },
  {
   "cell_type": "markdown",
   "metadata": {},
   "source": [
    "Below, one million integers are generated in the interval $[1, 100]$ and are plotted in a histogram. The discrete uniform distribution is clear in the histogram."
   ]
  },
  {
   "cell_type": "code",
   "execution_count": 9,
   "metadata": {},
   "outputs": [
    {
     "data": {
      "image/png": "[encoded data removed]",
      "text/plain": [
       "<Figure size 432x288 with 1 Axes>"
      ]
     },
     "metadata": {
      "needs_background": "light"
     },
     "output_type": "display_data"
    }
   ],
   "source": [
    "# Initialise random number generator with default bit generator (PCG64)\n",
    "rng = default_rng(997878)\n",
    "# Generate 1 million ints of simple random (discrete uniform) data \n",
    "ints = rng.integers(1, 100, 1000000, endpoint=True)\n",
    "# plot number frequencies using matplotlib.pyplot.hist()\n",
    "plt.hist(ints, bins=10, align=\"left\", rwidth=0.9)\n",
    "\n",
    "# Get current figure and Axes and set axis labels and plot title\n",
    "ax = plt.gcf().gca()\n",
    "ax.set_xlabel('digit range')\n",
    "ax.set_ylabel('frequency')\n",
    "plt.title(\"Generator.integers() samples numbers\\nfrom a discrete uniform distribution\")\n",
    "plt.show()"
   ]
  },
  {
   "cell_type": "markdown",
   "metadata": {},
   "source": [
    "Here, an array of integers is produced, each of which is limited to a different interval."
   ]
  },
  {
   "cell_type": "code",
   "execution_count": 10,
   "metadata": {},
   "outputs": [
    {
     "data": {
      "text/plain": [
       "array([0, 3, 0, 3])"
      ]
     },
     "execution_count": 10,
     "metadata": {},
     "output_type": "execute_result"
    }
   ],
   "source": [
    "# Return an array containing 4 integers from \n",
    "# intervals [0,2), [0,4), [0,6), and [0,8) respectively \n",
    "rng.integers([2, 4, 6, 8])"
   ]
  },
  {
   "cell_type": "markdown",
   "metadata": {},
   "source": [
    "*n-d* arrays can be generated by passing a tuple to size. Also lower and upper bounds can be specified for each position. Size can be inferred from the structure of the interval arguments."
   ]
  },
  {
   "cell_type": "code",
   "execution_count": 11,
   "metadata": {},
   "outputs": [
    {
     "name": "stdout",
     "output_type": "stream",
     "text": [
      "5x5:\n",
      "[[29 84 18]\n",
      " [17 16 44]\n",
      " [37 54 50]]\n",
      "\n",
      "3 element:\n",
      "[  4  49 370]\n",
      "\n",
      "3x3:\n",
      "[[197 210 269]\n",
      " [ 50 246 230]\n",
      " [401 480 415]]\n"
     ]
    }
   ],
   "source": [
    "# A 3x3 array of integers in [1, 100]\n",
    "ints1 = rng.integers(1, 100, size=(3, 3), endpoint=True)\n",
    "\n",
    "# A 3 element array with intervals [2, 5), [20, 50), and [200, 500)\n",
    "ints2 = rng.integers([2, 20, 200], [5, 50, 500])\n",
    "\n",
    "#  A 3x3 array with intervals:\n",
    "#  [2, 300), [20, 300), [200, 300)\n",
    "#  [2, 400), [20, 400), [200, 400)\n",
    "#  [2, 500), [20, 500), [200, 500)\n",
    "ints3 = rng.integers([2, 20, 200], [[300], [400], [500]])\n",
    "\n",
    "print(f\"5x5:\\n{ints1}\\n\\n3 element:\\n{ints2}\\n\\n3x3:\\n{ints3}\")"
   ]
  },
  {
   "cell_type": "markdown",
   "metadata": {},
   "source": [
    "Simulating one million rolls of one and two fair dice using `Generator.integers()`. Note that a single dice produces a discrete uniform distribution and a 2 dice produce a discrete triangular distribution."
   ]
  },
  {
   "cell_type": "code",
   "execution_count": 12,
   "metadata": {},
   "outputs": [
    {
     "data": {
      "image/png": "[encoded data removed]",
      "text/plain": [
       "<Figure size 864x288 with 2 Axes>"
      ]
     },
     "metadata": {
      "needs_background": "light"
     },
     "output_type": "display_data"
    }
   ],
   "source": [
    "# Simulate 1 million die rolls\n",
    "die_rolls = rng.integers(1, 6, size=1000000, endpoint=True)\n",
    "# Simulating 1 million rolls of a pair of dice\n",
    "two_die_rolls = rng.integers(1, 6, size=(1000000, 2), endpoint=True)\n",
    "\n",
    "# Plot the distributions\n",
    "fig, (ax1, ax2) = plt.subplots(1, 2, figsize=(12,4))\n",
    "ax1.hist(die_rolls, bins=(range(1,8)), align=\"left\", rwidth=0.9)\n",
    "ax1.set_xlabel('number rolled')\n",
    "ax1.set_ylabel('frequency')\n",
    "ax1.set_title(\"One million rolls of a fair die\")\n",
    "\n",
    "ax2.hist(np.sum(two_die_rolls, axis=1), bins=(range(2, 14)), align=\"left\", rwidth=0.9)\n",
    "ax2.set_xlabel('number rolled')\n",
    "ax2.set_ylabel('frequency')\n",
    "ax2.set_xticks(range(2, 13))\n",
    "ax2.set_title(\"One million rolls of two fair dice\")\n",
    "plt.show()"
   ]
  },
  {
   "cell_type": "markdown",
   "metadata": {},
   "source": [
    "### `numpy.random.Generator.random()`\n",
    "Signature: `random(size=None, dtype=np.float64, out=None)`"
   ]
  },
  {
   "cell_type": "markdown",
   "metadata": {},
   "source": [
    "This method generates floats in the interval $[0.0, 1.0)$. With no arguments the method returns a single number. If an int is passed to the size parameter it is treated as the length of an array of floats, and if a tuple is passed each element is treated as the size of a dimension in an *n-d* array.\n",
    "\n",
    "The random floats generated by this method are drawn from a continuous uniform distribution, meaning that the number of possible values is not countable but that each possible value is equally likely to occur. Collections of floats in intervals other than $[0.0, 1.0)$ may be generated by adding the lower interval limit the product of the interval length and the output of `random()`; for example an array of dimensions $(i\\times j)$ containing random floats in the interval $[a,b)$ would be produced with `(b-a)(random((i,j))+a`."
   ]
  },
  {
   "cell_type": "markdown",
   "metadata": {},
   "source": [
    "***\n",
    "A histogram of one million values generated by `Generator.random()`demonstrates the uniform distribution of those values."
   ]
  },
  {
   "cell_type": "code",
   "execution_count": 13,
   "metadata": {},
   "outputs": [
    {
     "data": {
      "image/png": "[encoded data removed]",
      "text/plain": [
       "<Figure size 432x288 with 1 Axes>"
      ]
     },
     "metadata": {
      "needs_background": "light"
     },
     "output_type": "display_data"
    }
   ],
   "source": [
    "# Generate array of 1000000 random floats in [0.0, 1.0)\n",
    "floats = rng.random(1000000)\n",
    "\n",
    "#Plot a histogram with 50 bins\n",
    "plt.hist(floats, bins=50)\n",
    "# Get current figure and Axes and set axis labels and plot title\n",
    "ax = plt.gcf().gca()\n",
    "ax.set_xlabel('random values (binned)')\n",
    "ax.set_ylabel('frequency')\n",
    "plt.title(\"Generator.random() samples numbers\\nfrom a continuous uniform distribution\")\n",
    "plt.show()"
   ]
  },
  {
   "cell_type": "markdown",
   "metadata": {},
   "source": [
    "A $(3\\times 3)$ array of floats in $[5,10)$ is produced by `(10-5)*Generator.random((3,3))+5`."
   ]
  },
  {
   "cell_type": "code",
   "execution_count": 14,
   "metadata": {},
   "outputs": [
    {
     "name": "stdout",
     "output_type": "stream",
     "text": [
      "[[9.09311376 8.9235276  6.03026354]\n",
      " [8.25592295 8.78959722 5.50676069]\n",
      " [7.74609353 9.36405525 9.87746473]]\n"
     ]
    }
   ],
   "source": [
    "# Generate 3x3 array of floats in [5,10)\n",
    "floats = (10-5)*rng.random((3,3))+5 \n",
    "print(floats)"
   ]
  },
  {
   "cell_type": "markdown",
   "metadata": {},
   "source": [
    "### `numpy.random.Generator.choice()`\n",
    "Signature: `choice(a, size=None, replace=True, p=None, axis=0, shuffle=True)`"
   ]
  },
  {
   "cell_type": "markdown",
   "metadata": {},
   "source": [
    "This method returns random samples from array-like collections. Passed an int it will behave like [`Generator.integers()`](numpy.random.Generator.integers()) and treat the argument as the upper limit of a half-open interval, with closed lower limit at 0, returning a random integer from that interval. \n",
    "\n",
    "The `size` parameter, along with the input *array-like*, $a$, controls the shape of the output array. Assuming $a$ is a *1-d* array, `size`=`None` returns a single value; `size`= an int, $n$, returns a *1-d* array of values of length $n$; and `size` = a tuple returns an *n-d* array, the length of which is the length of the tuple and the length of each dimension the corresponding value in the tuple. This works similarly where $a$ is *2-or-higher-d* array, except that each element returned is an array, taken from the axis of $a$ specified by the `axis` argument, rather than a single value.\n",
    "\n",
    "Whether or not the sample is taken with replacement, that is whether a value can be selected more than once, can be specified with the `replace` parameter.\n",
    "\n",
    "The random values are selected using a uniform distribution, with each value having an equal chance of being selected. However, an array-like collection of probabilities can be passed, one for each possible choice. Naturally, these probabilities must sum to 1."
   ]
  },
  {
   "cell_type": "markdown",
   "metadata": {},
   "source": [
    "***\n",
    "Selecting from a *1-d* array, and using the `size` parameter to output an *n-d* array, read the `size` tuple from right to left to figure out what you'll get. Below, `size=(2, 3)` means *Randomly pick three digits from the input array and place them in an array, do that twice, and put both of the resulting arrays into an array*."
   ]
  },
  {
   "cell_type": "code",
   "execution_count": 15,
   "metadata": {},
   "outputs": [
    {
     "name": "stdout",
     "output_type": "stream",
     "text": [
      "Choose one number from [0, 10):\n",
      " 9\n",
      "\n",
      "Choose three numbers twice from [0, 10):\n",
      " [[1 3 0]\n",
      " [1 3 1]]\n",
      "\n",
      "Shape of three, twice: (2, 3)\n"
     ]
    }
   ],
   "source": [
    "# Choose a single random integer from [0, 10)\n",
    "one = rng.choice(10)\n",
    "# Select 3 numbers twice from [0,10)\n",
    "three_twice = rng.choice(10, size=(2, 3), axis=1)\n",
    "print(f\"Choose one number from [0, 10):\\n {one}\\n\")\n",
    "print(f\"Choose three numbers twice from [0, 10):\\n {three_twice}\\n\")\n",
    "print(f\"Shape of three, twice: {three_twice.shape}\")"
   ]
  },
  {
   "cell_type": "markdown",
   "metadata": {},
   "source": [
    "When the input to `Generator.choice()` is an *n-d > 1* array, the values chosen are not individual values but arrays chosen from along whatever axis is specified by the `axis` parameter."
   ]
  },
  {
   "cell_type": "code",
   "execution_count": 16,
   "metadata": {},
   "outputs": [
    {
     "name": "stdout",
     "output_type": "stream",
     "text": [
      "Input array:\n",
      " [[ 1  2  3  4]\n",
      " [ 5  6  7  8]\n",
      " [ 9 10 11 12]\n",
      " [13 14 15 16]]\n",
      "\n",
      "Choose two rows at random:\n",
      " [[ 5  6  7  8]\n",
      " [13 14 15 16]] \n",
      "\n",
      "Choose two columns at random:\n",
      " [[ 1  4]\n",
      " [ 5  8]\n",
      " [ 9 12]\n",
      " [13 16]] \n",
      "\n"
     ]
    }
   ],
   "source": [
    "# A 4x4 array holding digits from 1-16\n",
    "a = np.array(np.arange(1,17)).reshape(4,4)\n",
    "# Choose two rows at random with replacement\n",
    "two_rows = rng.choice(a, size=(2), axis=0)\n",
    "# Choose two columns at random with replacement\n",
    "two_cols = rng.choice(a, size=(2), axis=1)\n",
    "\n",
    "\n",
    "print(f\"Input array:\\n {a}\\n\")\n",
    "print(f\"Choose two rows at random:\\n {two_rows}\", '\\n')\n",
    "print(f\"Choose two columns at random:\\n {two_cols}\", '\\n')"
   ]
  },
  {
   "cell_type": "markdown",
   "metadata": {},
   "source": [
    "When the input is an *n-d > 1* array, and the `size` is a tuple, the choice is a slice along the axis specified by `axis` which is repeated and assembled into an *n-d* array according to the values in the `size` tuple. Below, `size=(3, 2, 2)` (with `axis=0`) can be read as *Randomly choose two rows from the input array and place them in an array. Do that twice, and put the resulting two arrays into an array. Now do all of that twice more, for a total of three times, and put all of the resulting arrays into an array*. This is more succinctly expressed as *Choose two rows twice, three times*."
   ]
  },
  {
   "cell_type": "code",
   "execution_count": 17,
   "metadata": {},
   "outputs": [
    {
     "name": "stdout",
     "output_type": "stream",
     "text": [
      "[[[[ 5  6  7  8]\n",
      "   [13 14 15 16]]\n",
      "\n",
      "  [[ 1  2  3  4]\n",
      "   [ 5  6  7  8]]]\n",
      "\n",
      "\n",
      " [[[ 5  6  7  8]\n",
      "   [ 5  6  7  8]]\n",
      "\n",
      "  [[ 9 10 11 12]\n",
      "   [13 14 15 16]]]\n",
      "\n",
      "\n",
      " [[[ 5  6  7  8]\n",
      "   [ 1  2  3  4]]\n",
      "\n",
      "  [[ 1  2  3  4]\n",
      "   [ 5  6  7  8]]]] \n",
      "\n",
      "(3, 2, 2, 4)\n"
     ]
    }
   ],
   "source": [
    "# Select one row, three times, and do that twice\n",
    "two_rows_twice_three_times = rng.choice(a, size=(3, 2, 2), axis=0)\n",
    "\n",
    "print(two_rows_twice_three_times, '\\n')\n",
    "print(two_rows_twice_three_times.shape)"
   ]
  },
  {
   "cell_type": "markdown",
   "metadata": {},
   "source": [
    "The *array-like* passed to `Generator.choice()` can contain any type of object, not just numbers. Furthermore, although random selections are made using discrete uniform sampling, the probability of particular values being chosen can be adjusted using the `p` parameter. \n",
    "\n",
    "In the example below, one person is randomly chosen from a group of ten people, each of whom has an equal chance of selection. This selection is made ten thousand times and the results recorded. A second set of ten thousand independent selections is made from the same list of names but this time all with different probabilities of being chosen. The results are displayed in two histograms along with a table showing each person's probability of being selected in the second case."
   ]
  },
  {
   "cell_type": "code",
   "execution_count": 18,
   "metadata": {},
   "outputs": [
    {
     "data": {
      "image/png": "[encoded data removed]",
      "text/plain": [
       "<Figure size 864x288 with 2 Axes>"
      ]
     },
     "metadata": {
      "needs_background": "light"
     },
     "output_type": "display_data"
    },
    {
     "name": "stdout",
     "output_type": "stream",
     "text": [
      "Person      Probability of winning\n",
      "--------  ------------------------\n",
      "Brandon                  0.0587386\n",
      "Brian                    0.236299\n",
      "Claire                   0.090962\n",
      "David                    0.0928225\n",
      "Ebony                    0.0180149\n",
      "Jennifer                 0.127028\n",
      "Loretta                  0.0154529\n",
      "Mathew                   0.132425\n",
      "Nicole                   0.101157\n",
      "Thomas                   0.1271\n"
     ]
    }
   ],
   "source": [
    "# Generate a list of ten people\n",
    "fake_name = Faker()\n",
    "people = [fake_name.unique.first_name() for _ in range(10)]\n",
    "\n",
    "# Select one random winner with discrete uniform probability 10000 times\n",
    "winners_uniform = rng.choice(people, size=10000)\n",
    "# Generate 10 random probabilities summing to 1\n",
    "# the Dirichlet distribution is a ditribution in which all of the sampled \n",
    "# values sum to 1, making it suitable for generating random probabilities\n",
    "probabilities = rng.dirichlet(np.ones(10),size=1)[0]\n",
    "# Select one random winner with probabilities generated above 10000 times\n",
    "winners_skewed  = rng.choice(people, size=10000, p=probabilities)\n",
    "\n",
    "# Plot histograms of the number of wins each person gets in both cases\n",
    "fig, (ax1, ax2) = plt.subplots(1, 2, figsize=(12,4))\n",
    "for ax, data in zip((ax1, ax2), (winners_uniform, winners_skewed)):\n",
    "    ax.hist(sorted(data), bins=range(11), align=\"left\", rwidth=0.9)\n",
    "    ax.set_xlabel('person')\n",
    "    ax.set_ylabel('number of wins')\n",
    "    ax.tick_params('x', labelrotation=45)\n",
    "ax1.set_title(\"Everyone has the same chance of winning\")\n",
    "ax2.set_title(\"Everyone has a different chance of winning\")\n",
    "plt.show()\n",
    "\n",
    "# Table showing each person's probability of winning\n",
    "# in case where everyone has a different chance\n",
    "print(tabulate(sorted(zip(people, probabilities)), \n",
    "               headers=[\"Person\", \"Probability of winning\"]))"
   ]
  },
  {
   "cell_type": "markdown",
   "metadata": {},
   "source": [
    "### `numpy.random.Generator.bytes`\n",
    "Signature: `bytes(length)`"
   ]
  },
  {
   "cell_type": "markdown",
   "metadata": {},
   "source": [
    "The `bytes` method returns a string of random bytes of the length passed."
   ]
  },
  {
   "cell_type": "code",
   "execution_count": 19,
   "metadata": {},
   "outputs": [
    {
     "name": "stdout",
     "output_type": "stream",
     "text": [
      "b'Y8\\x9cU\\xbdO(\\xbe\\xe4\\r'\n"
     ]
    }
   ],
   "source": [
    "x = rng.bytes(10)\n",
    "print(x)"
   ]
  },
  {
   "cell_type": "markdown",
   "metadata": {},
   "source": [
    "\\xe2h\\x18\\x08\\x04\\xab\\xeco"
   ]
  },
  {
   "cell_type": "markdown",
   "metadata": {},
   "source": [
    "## Random permutations of sequences with `numpy.random`\n",
    "\n",
    "Three methods are provided for the random reordering of sequences: `shuffle`, `permutation`, and `permuted`."
   ]
  },
  {
   "cell_type": "markdown",
   "metadata": {},
   "source": [
    "### `numpy.random.Generator.shuffle`\n",
    "Signature: `shuffle(x, axis=0)`"
   ]
  },
  {
   "cell_type": "markdown",
   "metadata": {},
   "source": [
    "The `shuffle()` method shuffles an array-like in-place. If passed an *n-d* array, the `axis` parameter, which defaults to 0, determines which axis gets shuffled. For instance, in the case of a *2-d* array, `axis=0` causes the order of the rows to change without reordering the values within the rows, while `axis=1` reorders the columns without affecting element order within the columns."
   ]
  },
  {
   "cell_type": "code",
   "execution_count": 99,
   "metadata": {},
   "outputs": [
    {
     "name": "stdout",
     "output_type": "stream",
     "text": [
      "Unshuffled array:\n",
      "[ 1  2  3  4  5  6  7  8  9 10 11 12 13 14 15 16]\n",
      "Same array shuffled:\n",
      "[ 8  7 15 14  1  5  3  2  9 12  4 10 11  6 13 16]\n",
      "\n",
      "Unshuffled array:\n",
      "[[ 8  7 15 14]\n",
      " [ 1  5  3  2]\n",
      " [ 9 12  4 10]\n",
      " [11  6 13 16]]\n",
      "Same array with column positions shuffled (axis=1):\n",
      "[[ 7  8 15 14]\n",
      " [ 5  1  3  2]\n",
      " [12  9  4 10]\n",
      " [ 6 11 13 16]]\n"
     ]
    }
   ],
   "source": [
    "# array containing 1..16\n",
    "a = np.arange(1,17)\n",
    "print(f\"Unshuffled array:\\n{a}\")\n",
    "# shuffle in-place\n",
    "rng.shuffle(a)\n",
    "print(f\"Same array shuffled:\\n{a}\")\n",
    "\n",
    "# 4x4 array conatining 1..16\n",
    "b = a.copy().reshape(4,4)\n",
    "print(f\"\\nUnshuffled array:\\n{b}\")\n",
    "rng.shuffle(b, axis=1)\n",
    "print(f\"Same array with column positions shuffled (axis=1):\\n{b}\")"
   ]
  },
  {
   "cell_type": "markdown",
   "metadata": {},
   "source": [
    "### `numpy.random.Generator.permutation`\n",
    "Signature: `permutation(x, axis=0)`"
   ]
  },
  {
   "cell_type": "markdown",
   "metadata": {},
   "source": [
    "The `permutation` method behaves similarly to the `shuffle` method except that it shuffles a copy of the passed *array-like* along the specified axis and returns that copy, leaving the original unchanged. If passed an int, $n$, the `permutation()` method generates an evenly spaced range of interval $[0, n)$ using `numpy.arange()`, shuffles it, then returns it as a *1-d* numpy array."
   ]
  },
  {
   "cell_type": "code",
   "execution_count": 104,
   "metadata": {},
   "outputs": [
    {
     "name": "stdout",
     "output_type": "stream",
     "text": [
      "Unshuffled array:\n",
      "[ 1  2  3  4  5  6  7  8  9 10]\n",
      "Same array shuffled:\n",
      "[ 2  4  8  7  1  6 10  3  9  5]\n",
      "The original array is unchanged:\n",
      "[ 1  2  3  4  5  6  7  8  9 10]\n",
      "\n",
      "Unshuffled 2d array:\n",
      "[[1 2 3]\n",
      " [4 5 6]\n",
      " [7 8 9]]\n",
      "Shuffled on both axes:\n",
      "[[6 3 5]\n",
      " [7 4 1]\n",
      " [2 0 8]]\n"
     ]
    }
   ],
   "source": [
    "# array containing 1..10\n",
    "a = np.arange(1,11)\n",
    "print(f\"Unshuffled array:\\n{a}\")\n",
    "# shuffle in-place\n",
    "b = rng.permutation(a)\n",
    "print(f\"Same array shuffled:\\n{b}\")\n",
    "print(f\"The original array is unchanged:\\n{a}\")\n",
    "\n",
    "# 3x3 array containg 1..9\n",
    "c = np.arange(1, 10).reshape(3,3)\n",
    "print(f\"\\nUnshuffled 2d array:\\n{c}\")\n",
    "# To shuffle all values independent of axis\n",
    "d = rng.permutation(x.flatten()).reshape(3,3)\n",
    "print(f\"Shuffled on both axes:\\n{d}\")"
   ]
  },
  {
   "cell_type": "markdown",
   "metadata": {},
   "source": [
    "### `numpy.random.Generator.permuted`\n",
    "Signature:`permuted(x, axis=None, out=None)`"
   ]
  },
  {
   "cell_type": "markdown",
   "metadata": {},
   "source": [
    "This method differs from `shuffle` and `permutation` in that, rather than shuffling the order of slices along the specified axis, the values within each slice along that axis are shuffled. Like `permutation`, a copy is returned leaving the original unchanged. Like the flatten-reshape trick shown in the `permutation` example above, the n-d array will be flattened, shuffled, and reshaped if `axis=None`, which is its default value."
   ]
  },
  {
   "cell_type": "code",
   "execution_count": 109,
   "metadata": {},
   "outputs": [
    {
     "name": "stdout",
     "output_type": "stream",
     "text": [
      "Unshuffled array:\n",
      "[[1 2 3]\n",
      " [4 5 6]\n",
      " [7 8 9]]\n",
      "Same array shuffled without regard for axes:\n",
      "[[8 5 2]\n",
      " [1 6 9]\n",
      " [4 3 7]]\n",
      "\n",
      "Unshuffled array:\n",
      "[[1 2 3]\n",
      " [4 5 6]\n",
      " [7 8 9]]\n",
      "Same array with column values shuffled (axis=1):\n",
      "[[8 5 2]\n",
      " [1 6 9]\n",
      " [4 3 7]]\n"
     ]
    }
   ],
   "source": [
    "# 3x3 array containg 1..9\n",
    "a = np.arange(1, 10).reshape(3,3)\n",
    "# Shuffle all the values\n",
    "b = rng.permuted(a)\n",
    "print(f\"Unshuffled array:\\n{a}\")\n",
    "print(f\"Same array shuffled without regard for axes:\\n{b}\")\n",
    "\n",
    "# 4x4 array conatining 1..16\n",
    "c = np.arange(1, 10).reshape(3,3)\n",
    "print(f\"\\nUnshuffled array:\\n{c}\")\n",
    "rng.permuted(c, axis=1)\n",
    "print(f\"Same array with column values shuffled (axis=1):\\n{b}\")"
   ]
  },
  {
   "cell_type": "markdown",
   "metadata": {},
   "source": [
    "## Some distribution functions"
   ]
  },
  {
   "cell_type": "markdown",
   "metadata": {},
   "source": [
    "### 1. The normal distribution\n",
    "`random.Generator.normal()`\n",
    "$$ f(x)=\\frac{1}{\\sigma\\sqrt{2\\pi}}e^{-\\frac{1}{2}(\\frac{x-\\mu}{\\sigma})^2} $$"
   ]
  },
  {
   "cell_type": "markdown",
   "metadata": {},
   "source": [
    "1. Description of normal distribution.\n",
    "    1. Central limit theorem\n",
    "1. Description of Generator.normal()\n",
    "1. Demonstration of Generator.normal()"
   ]
  },
  {
   "cell_type": "markdown",
   "metadata": {},
   "source": [
    "### 2. The binomial distribution"
   ]
  },
  {
   "cell_type": "code",
   "execution_count": 22,
   "metadata": {},
   "outputs": [
    {
     "name": "stdout",
     "output_type": "stream",
     "text": [
      "0.500149\n",
      "0.249572\n",
      "0.125218\n",
      "0.062472\n",
      "0.031283\n",
      "0.01566\n",
      "0.00781\n",
      "0.003905\n",
      "0.001934\n",
      "0.001005\n"
     ]
    }
   ],
   "source": [
    "b = rng.geometric(0.5, 1000000)\n",
    "for z in range(1, 11):\n",
    "    print((b == z).sum() / 1000000)\n"
   ]
  },
  {
   "cell_type": "code",
   "execution_count": 23,
   "metadata": {},
   "outputs": [
    {
     "data": {
      "text/plain": [
       "array([0, 1])"
      ]
     },
     "execution_count": 23,
     "metadata": {},
     "output_type": "execute_result"
    }
   ],
   "source": [
    "bin = rng.binomial(1, 0.5, 1000000)\n",
    "# for z in range(1, 11):\n",
    "#     print((bin == z).sum() / 1000000)\n",
    "np.unique(bin)"
   ]
  },
  {
   "cell_type": "code",
   "execution_count": 24,
   "metadata": {},
   "outputs": [],
   "source": [
    "results = []\n",
    "for toss in range(100000):\n",
    "    results.append(rng.integers(2)) "
   ]
  },
  {
   "cell_type": "markdown",
   "metadata": {},
   "source": [
    "### 3. The standard student's t distribution "
   ]
  },
  {
   "cell_type": "markdown",
   "metadata": {},
   "source": [
    "### 4. The Zipf Distribution"
   ]
  },
  {
   "cell_type": "markdown",
   "metadata": {},
   "source": [
    "### 5. The Gumbel Distribution\n",
    "#### `random.Generator.gumbel`\n",
    "$$ p(x)=\\frac{e^{-(x-\\mu)/\\beta}}{\\beta}e^{-e^{-(x-\\mu)/\\beta}} $$"
   ]
  },
  {
   "cell_type": "markdown",
   "metadata": {},
   "source": [
    "## Seeds\n",
    "\n",
    "PCG64 Details\n",
    "Comparison between PCG64 and Mersenne Twister with focus on on performance (i.e. how does PCG64 outperform MT19937?)\n",
    "\n",
    "Setting seeds in numpy rng"
   ]
  },
  {
   "cell_type": "markdown",
   "metadata": {},
   "source": [
    "***\n",
    "## References\n",
    "\n",
    "## RNG General\n",
    "[1] https://www.pcg-random.org/rng-basics.html\n",
    "\n",
    "### PCG\n",
    "[2] Lemire, D., 2017, On Melissa O’Neill’s PCG random number generator, https://lemire.me/blog/2017/08/15/on-melissa-oneills-pcg-random-number-generator/\n",
    "\n",
    "[3] O' Neill, M., 2014, PCG, A Family of Better Random Number Generators, https://www.pcg-random.org/\n",
    "\n",
    "[4] O' Neill, M., 2014, PCG: A Family of Simple Fast Space-Efficient Statistically Good Algorithms for Random Number Generation, https://www.pcg-random.org/pdf/hmc-cs-2014-0905.\n",
    "\n",
    "### RNG Seeding\n",
    "[5] Woodcock, H., 2021, Stop using numpy.random.seed(), https://towardsdatascience.com/stop-using-numpy-random-seed-581a9972805f\n",
    "\n",
    "### Numpy Docs\n",
    "[7] https://numpy.org/doc/stable/reference/random/index.html\n",
    "\n",
    "[8] https://numpy.org/doc/stable/reference/random/bit_generators/index.html\n",
    "\n",
    "[9] https://numpy.org/doc/stable/reference/random/bit_generators/generated/numpy.random.BitGenerator.html"
   ]
  },
  {
   "cell_type": "markdown",
   "metadata": {},
   "source": [
    "[10] Generating random samples from user-defined\n",
    "distributions\n",
    "The Stata Journal (2011)\n",
    "11, Number 2, pp. 299–304\n",
    "Katar ́ına Luk ́acsy"
   ]
  },
  {
   "cell_type": "markdown",
   "metadata": {},
   "source": [
    "[11] Bonilla, L.L., Alvaro, M. & Carretero, M. Chaos-based true random number generators. J.Math.Industry 7, 1 (2016). https://doi.org/10.1186/s13362-016-0026-4"
   ]
  },
  {
   "cell_type": "markdown",
   "metadata": {},
   "source": [
    "[12] Harvard: Haahr, M. (2021). RANDOM.ORG: True Random Number Service. [ONLINE] Available at: https://www.random.org [Accessed 9 November 2021]."
   ]
  },
  {
   "cell_type": "markdown",
   "metadata": {},
   "source": [
    "[13] Meiser, L.C., Koch, J., Antkowiak, P.L. et al. DNA synthesis for true random number generation. Nat Commun 11, 5869 (2020). https://doi.org/10.1038/s41467-020-19757-y"
   ]
  },
  {
   "cell_type": "markdown",
   "metadata": {},
   "source": [
    "[14] Neustadter, D. (2019). True Random Number Generators for Heightened Security in Any SoC. [ONLINE] Available at https://www.synopsys.com/designware-ip/technical-bulletin/true-random-number-generator-security-2019q3.html [Accessed 9 November 2021]."
   ]
  },
  {
   "cell_type": "markdown",
   "metadata": {},
   "source": [
    "[15] Barker, E., Kelsey, J. (2012). Recommendation for Key Management. NIST Special Publication 800-57. NIST. [Accessed 9 November 2021]. Page 4."
   ]
  },
  {
   "cell_type": "code",
   "execution_count": null,
   "metadata": {},
   "outputs": [],
   "source": []
  }
 ],
 "metadata": {
  "interpreter": {
   "hash": "da9e039210d5e53844848fc529c2cb75fb923182e70608e0bc692989d752dbae"
  },
  "kernelspec": {
   "display_name": "Python 3 (ipykernel)",
   "language": "python",
   "name": "python3"
  },
  "language_info": {
   "codemirror_mode": {
    "name": "ipython",
    "version": 3
   },
   "file_extension": ".py",
   "mimetype": "text/x-python",
   "name": "python",
   "nbconvert_exporter": "python",
   "pygments_lexer": "ipython3",
   "version": "3.9.7"
  }
 },
 "nbformat": 4,
 "nbformat_minor": 4
}
