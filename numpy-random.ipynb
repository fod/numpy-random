{
 "cells": [
  {
   "cell_type": "markdown",
   "metadata": {},
   "source": [
    "# The numpy.random Package\n",
    "\n",
    "## Overview\n",
    "Numpy.random is the sub-package of the numpy numerical computing Python package that deals with random (really pseudo-random [1]) number generation and random processes such as shuffling, and selecting random items from, sequences. Two classes `numpy.random.BitGenerator` and `numpy.random.Generator` are used together to generate pseudo random numbers. `Generator` can be instantiated in two ways;\n",
    "1. by calling the constructor with the name of the desired BitGenerator algorithm, or;\n",
    "1. by calling `numpy.random.default_rng()`, a convenience function which will return a `Generator` object instantiated with the default `BitGenerator`, currently PCG64 [1]  \n",
    "\n",
    "The second method is the one recommended by the numpy documentation [1].\n",
    "\n",
    "`numpy.random.BitGenerator` is the base class for all of the bit generators provided by the numpy package. It is an abstract class and so cannot be instantiated. Several BitGenerators are provided by numpy. Of particular interest are `PCG64`, the default `numpy.random` BitGenerator, and `MT19937`, also known as the *Mersenne Twister*[1], the Python language's standard BitGenerator[1]. The `BitGenerator` base class provides the attribute `seed` which is used to intialise whichever BitGenerator is instantiated so that the sequence of numbers it produces are deterministic and therefore reproduceable[8]. If no seed is passed one isgenerated from system entropy[9]. Where a seed is passed the `numpy.random.SeedSequence` class is used to derive the `BitGenerator`'s initial state [9]."
   ]
  },
  {
   "cell_type": "code",
   "execution_count": 2,
   "metadata": {},
   "outputs": [],
   "source": [
    "# Imports\n",
    "import numpy as np\n",
    "# Used to initilaise current default BitGenerator\n",
    "from numpy.random import default_rng\n",
    "# Used to initialise any available BitGenerator\n",
    "from numpy.random import Generator\n",
    "# Two of numpy's BitGenerators\n",
    "from numpy.random import PCG64, MT19937\n",
    "# For plotting distributions, etc\n",
    "import matplotlib.pyplot as plt"
   ]
  },
  {
   "cell_type": "markdown",
   "metadata": {},
   "source": [
    "Below is a demonstration of `numpy.random.default_rng()`. "
   ]
  },
  {
   "cell_type": "code",
   "execution_count": 3,
   "metadata": {},
   "outputs": [
    {
     "name": "stdout",
     "output_type": "stream",
     "text": [
      "Type returned by default_rng():\t\t<class 'numpy.random._generator.Generator'>\n",
      "BitGenerator returned by default_rng():\t<numpy.random._pcg64.PCG64 object at 0x7f8df4ca7670>\n"
     ]
    }
   ],
   "source": [
    "# Initialise Generator with default \n",
    "# BitGenerator (PCG64) with seed 0\n",
    "rng = default_rng(0)\n",
    "print(f\"Type returned by default_rng():\\t\\t{type(rng)}\")\n",
    "print(f\"BitGenerator returned by default_rng():\\t{rng.bit_generator}\")"
   ]
  },
  {
   "cell_type": "code",
   "execution_count": 4,
   "metadata": {},
   "outputs": [
    {
     "name": "stdout",
     "output_type": "stream",
     "text": [
      "State of BitGenerator returned by default_rng(0):\n"
     ]
    },
    {
     "data": {
      "text/plain": [
       "{'bit_generator': 'PCG64',\n",
       " 'state': {'state': 35399562948360463058890781895381311971,\n",
       "  'inc': 87136372517582989555478159403783844777},\n",
       " 'has_uint32': 0,\n",
       " 'uinteger': 0}"
      ]
     },
     "metadata": {},
     "output_type": "display_data"
    }
   ],
   "source": [
    "print(\"State of BitGenerator returned by default_rng(0):\")\n",
    "display(rng.bit_generator.state)"
   ]
  },
  {
   "cell_type": "code",
   "execution_count": 5,
   "metadata": {},
   "outputs": [
    {
     "name": "stdout",
     "output_type": "stream",
     "text": [
      "[8 6 5 2 3 0 0 0 1 8]\n",
      "{'state': 133411349017971402732463711865589153492, 'inc': 87136372517582989555478159403783844777}\n",
      "[6 9 5 6 9 7 6 5 5 9]\n",
      "{'state': 171367656177275072274709569355545309177, 'inc': 87136372517582989555478159403783844777}\n",
      "{'state': 171367656177275072274709569355545309177, 'inc': 87136372517582989555478159403783844777}\n"
     ]
    }
   ],
   "source": [
    "# Generate 10 integers using Generator \n",
    "print(rng.integers(0,10, 10))\n",
    "print(rng.bit_generator.state['state'])\n",
    "# Generate another 10 integers\n",
    "print(rng.integers(0,10, 10))\n",
    "print(rng.bit_generator.state['state'])\n",
    "print(rng.bit_generator.state['state'])"
   ]
  },
  {
   "cell_type": "code",
   "execution_count": 6,
   "metadata": {},
   "outputs": [
    {
     "name": "stdout",
     "output_type": "stream",
     "text": [
      "[8 6 5 2 3 0 0 0 1 8]\n",
      "[6 9 5 6 9 7 6 5 5 9]\n"
     ]
    }
   ],
   "source": [
    "generator = Generator(PCG64(0))\n",
    "print(generator.integers(0,10, 10))\n",
    "print(generator.integers(0,10, 10))"
   ]
  },
  {
   "cell_type": "code",
   "execution_count": 7,
   "metadata": {},
   "outputs": [
    {
     "name": "stdout",
     "output_type": "stream",
     "text": [
      "[11749869230777074271  4976686463289251617   755828109848996024\n",
      "   304881062738325533 15002187965291974971 16837368535893154894\n",
      " 11190454901533422207 13456836363123071557 10028111089635196863\n",
      " 17249041691996241901]\n"
     ]
    },
    {
     "data": {
      "text/plain": [
       "{'state': 171367656177275072274709569355545309177,\n",
       " 'inc': 87136372517582989555478159403783844777}"
      ]
     },
     "execution_count": 7,
     "metadata": {},
     "output_type": "execute_result"
    }
   ],
   "source": [
    "pcg64 = PCG64(0)\n",
    "print(pcg64.random_raw(10))\n",
    "pcg64.state['state']"
   ]
  },
  {
   "cell_type": "code",
   "execution_count": 8,
   "metadata": {},
   "outputs": [
    {
     "name": "stdout",
     "output_type": "stream",
     "text": [
      "3082976773704378382957040803892283014\n",
      "68134826400595484616505024766030972760\n"
     ]
    },
    {
     "data": {
      "text/plain": [
       "array([ 9346263121889571303, 17368333274900124473, 15873785458696640967,\n",
       "       14816325596175182897,  8575095165098224657,  3217963735853755739,\n",
       "        4627654324071494252, 11423645400079764666, 17700760186569911496,\n",
       "        1766192382225806764], dtype=uint64)"
      ]
     },
     "execution_count": 8,
     "metadata": {},
     "output_type": "execute_result"
    }
   ],
   "source": [
    "ss = np.random.SeedSequence()\n",
    "print(ss.entropy)\n",
    "ss2 = np.random.SeedSequence()\n",
    "print(ss2.entropy)\n",
    "ss.generate_state(10, 'uint64')"
   ]
  },
  {
   "cell_type": "markdown",
   "metadata": {},
   "source": [
    "## Creating simple random data with `numpy.random`\n",
    "The `Generator` class provides four methods for generating collections of random numbers when the probability distributions of those numbers is not important: `integers()`, which generates integers, `random()`, which generates floats,`choice()` which returns random selections from a passed list, and `bytes()`, which generates a string of random bytes."
   ]
  },
  {
   "cell_type": "markdown",
   "metadata": {},
   "source": [
    "### `numpy.random.Generator.integers()`\n",
    "Signature : `integers(low, high=None, size=None, dtype=np.int64, endpoint=False)`"
   ]
  },
  {
   "cell_type": "markdown",
   "metadata": {},
   "source": [
    "This method generates random integers in the range (`low`, `high`). It will return a single integer if called with one or two arguments. If called with one numeric argument, $a$ it will return an unsigned integer, $n$ such that $n{\\lt}a$, or, if the boolean argument `endpoint` is `True`, $n{\\le}a$. If called with two numeric arguments $a$, $b$, the integer $n$ will be $a{\\le}n{\\lt}b$, or $a{\\le}n{\\le}b$ if `endpoint=True`.\n",
    "\n",
    "The method will return an array of random integers in the desired range if given an argument for the `size` parameter. A single value will be interpreted as a length for a *1-d* array. A tuple will be interpreted as dimension sizes for an *n-d* array. Finally, an array-like data structure can be passed as the low or hig range arguments in which case each member of the array will be interpreted as the low or high value for that element of an array of random integers.\n",
    "\n",
    "The integers returned by this method follow a discrete uniform distribution, meaning that the number of possible values is countable (*i.e.* finite) and that each possible value is equally likely to occur."
   ]
  },
  {
   "cell_type": "code",
   "execution_count": 9,
   "metadata": {},
   "outputs": [
    {
     "name": "stdout",
     "output_type": "stream",
     "text": [
      "[84 28 58 ... 76 67 91]\n"
     ]
    },
    {
     "data": {
      "image/png": "[encoded data removed]",
      "text/plain": [
       "<Figure size 432x288 with 1 Axes>"
      ]
     },
     "metadata": {
      "needs_background": "light"
     },
     "output_type": "display_data"
    }
   ],
   "source": [
    "rng = default_rng(997878)\n",
    "ints = rng.integers(1, 101, 1000000)\n",
    "print(ints)\n",
    "plt.hist(ints)\n",
    "plt.show()"
   ]
  },
  {
   "cell_type": "code",
   "execution_count": 10,
   "metadata": {},
   "outputs": [
    {
     "data": {
      "text/plain": [
       "array([0, 3, 0, 3])"
      ]
     },
     "execution_count": 10,
     "metadata": {},
     "output_type": "execute_result"
    }
   ],
   "source": [
    "rng.integers((2,4,6,8))"
   ]
  },
  {
   "cell_type": "code",
   "execution_count": 11,
   "metadata": {},
   "outputs": [
    {
     "name": "stdout",
     "output_type": "stream",
     "text": [
      "[2 6 2 ... 4 6 3]\n"
     ]
    },
    {
     "data": {
      "image/png": "[encoded data removed]",
      "text/plain": [
       "<Figure size 432x288 with 1 Axes>"
      ]
     },
     "metadata": {
      "needs_background": "light"
     },
     "output_type": "display_data"
    }
   ],
   "source": [
    "die_rolls = rng.integers(1, 6, size=1000000, endpoint=True)\n",
    "print(die_rolls)\n",
    "plt.hist(die_rolls, bins=(1,2,3,4,5,6,7), align=\"left\", rwidth=0.9)\n",
    "plt.show()"
   ]
  },
  {
   "cell_type": "markdown",
   "metadata": {},
   "source": [
    "### `numpy.random.Generator.random()`\n",
    "Signature: `random(size=None, dtype=np.float64, out=None)`"
   ]
  },
  {
   "cell_type": "markdown",
   "metadata": {},
   "source": [
    "This method generates floats, $n$, such that $0.0{\\le}n{\\lt}1.0$. With no arguments the method returns a single number. If an int is passed to the size parameter it is treated as the length of an array or random floats, and if a tuple is passed each element is treated as the size of a dimension in an *n-d* array.\n",
    "\n",
    "The random floats generated by this method are drawn from a continuous uniform distribution, meaning that the number of possible values is not countable but that each possible value is equally likely to occur. Collections of floats in intervals other than $[0.0, 1.0)$ may be generated by adding the lower interval limit the product of the interval length and the output of `random()`; e.g. $(b-a)(random())+a$ to generate random floats in the interval $[a,b)$."
   ]
  },
  {
   "cell_type": "code",
   "execution_count": 12,
   "metadata": {},
   "outputs": [
    {
     "name": "stdout",
     "output_type": "stream",
     "text": [
      "0.9300225506858544\n",
      "8.501929205891987\n"
     ]
    }
   ],
   "source": [
    "print(rng.random())\n",
    "print((10-5)*rng.random()+5)"
   ]
  },
  {
   "cell_type": "markdown",
   "metadata": {},
   "source": [
    "### `numpy.random.Generator.choice`\n",
    "Signature: `choice(a, size=None, replace=True, p=None, axis=0, shuffle=True)`"
   ]
  },
  {
   "cell_type": "markdown",
   "metadata": {},
   "source": [
    "This method returns random samples from array-like collections. Passed an int it will behave like [`integers()`](numpy.random.Generator.integers()) and treat the argument as the upper limit of an open interval with 0 as the lower limit, returning a random integer from that interval. The `size` parameter allows the number of choices returned, as well as their shape to be selected in exactly the same manner as in the [`integers()`](numpy.random.Generator.integers()) method. If passed an n-dimensional array the axis along which to take the sample can be specified. If, for instance, a *2-d* array is passed, along with an `axis` argument of 0 (the default), then the method will return a random selection of `size` rows, and `axis=1` will return a random selection of `size` columns. Whether or not the sample is taken with replacement, that is whether a value can be selected more than once, can be specified with the `replace` parameter.\n",
    "\n",
    "The randaom values are selected using a uniform distribution, with each value having an equal chance of being selected. However, an array-like collection of probabilities can be passed, one for each possible choice. These probabilities must sum to 1."
   ]
  },
  {
   "cell_type": "code",
   "execution_count": 13,
   "metadata": {},
   "outputs": [
    {
     "name": "stdout",
     "output_type": "stream",
     "text": [
      "8\n",
      "['Fiona' 'Anna']\n",
      "['Fiona' 'Fiachra']\n",
      "['Fiachra' 'Ramona']\n",
      "['Anna' 'Fiachra']\n",
      "['Fiachra' 'Ramona']\n",
      "['Fiona' 'Fiachra']\n",
      "['Fiona' 'Anna']\n",
      "['Fiona' 'Ramona']\n",
      "['Fiona' 'Fiachra']\n",
      "['Anna' 'Ramona']\n"
     ]
    }
   ],
   "source": [
    "names = ['Anna', 'Ramona', 'Fiachra', 'Fiona']\n",
    "winner = rng.choice(names, 2, p=[0.2,0.2,0.4,0.2])\n",
    "xx = rng.choice(4, size=[28,28], p=[0.5, 0.2, 0.2, 0.1])\n",
    "print(rng.integers(9))\n",
    "for w in range(10):\n",
    "    winners = rng.choice(names, 2, p=[0.2,0.2,0.4,0.2], replace=False)\n",
    "    print(winners)"
   ]
  },
  {
   "cell_type": "code",
   "execution_count": 14,
   "metadata": {},
   "outputs": [
    {
     "name": "stdout",
     "output_type": "stream",
     "text": [
      "[['Anna' 'Ramona' 'Fiachra' 'Fiona']]\n"
     ]
    }
   ],
   "source": [
    "names = [['Anna', 'Ramona', 'Fiachra', 'Fiona'],['Homer','Bart', 'Lisa', 'Maggie']]\n",
    "print(rng.choice(names, 1, axis=0))"
   ]
  },
  {
   "cell_type": "code",
   "execution_count": 15,
   "metadata": {},
   "outputs": [
    {
     "data": {
      "text/plain": [
       "array([[ 0,  1,  2,  3,  4,  5,  6,  7,  8,  9],\n",
       "       [10, 11, 12, 13, 14, 15, 16, 17, 18, 19],\n",
       "       [20, 21, 22, 23, 24, 25, 26, 27, 28, 29],\n",
       "       [30, 31, 32, 33, 34, 35, 36, 37, 38, 39],\n",
       "       [40, 41, 42, 43, 44, 45, 46, 47, 48, 49],\n",
       "       [50, 51, 52, 53, 54, 55, 56, 57, 58, 59],\n",
       "       [60, 61, 62, 63, 64, 65, 66, 67, 68, 69],\n",
       "       [70, 71, 72, 73, 74, 75, 76, 77, 78, 79],\n",
       "       [80, 81, 82, 83, 84, 85, 86, 87, 88, 89],\n",
       "       [90, 91, 92, 93, 94, 95, 96, 97, 98, 99]])"
      ]
     },
     "execution_count": 15,
     "metadata": {},
     "output_type": "execute_result"
    }
   ],
   "source": [
    "d = np.arange(100).reshape(10,10)\n",
    "d"
   ]
  },
  {
   "cell_type": "code",
   "execution_count": 16,
   "metadata": {},
   "outputs": [
    {
     "name": "stdout",
     "output_type": "stream",
     "text": [
      "[[50 51 52 53 54 55 56 57 58 59]\n",
      " [40 41 42 43 44 45 46 47 48 49]\n",
      " [50 51 52 53 54 55 56 57 58 59]\n",
      " [70 71 72 73 74 75 76 77 78 79]\n",
      " [10 11 12 13 14 15 16 17 18 19]]\n"
     ]
    }
   ],
   "source": [
    "print(rng.choice(d, 5, axis=0))"
   ]
  },
  {
   "cell_type": "code",
   "execution_count": 17,
   "metadata": {},
   "outputs": [
    {
     "data": {
      "text/plain": [
       "<matplotlib.colorbar.Colorbar at 0x7f8df18b0760>"
      ]
     },
     "execution_count": 17,
     "metadata": {},
     "output_type": "execute_result"
    },
    {
     "data": {
      "image/png": "[encoded data removed]",
      "text/plain": [
       "<Figure size 432x288 with 2 Axes>"
      ]
     },
     "metadata": {
      "needs_background": "light"
     },
     "output_type": "display_data"
    }
   ],
   "source": [
    "plt.imshow(xx, cmap=\"gray\")\n",
    "plt.colorbar()"
   ]
  },
  {
   "cell_type": "markdown",
   "metadata": {},
   "source": [
    "### `numpy.random.Generator.bytes`\n",
    "Signature: `bytes(length)`"
   ]
  },
  {
   "cell_type": "markdown",
   "metadata": {},
   "source": [
    "The `bytes` method returns a string of random bytes of the length passed."
   ]
  },
  {
   "cell_type": "code",
   "execution_count": 18,
   "metadata": {},
   "outputs": [
    {
     "data": {
      "text/plain": [
       "str"
      ]
     },
     "execution_count": 18,
     "metadata": {},
     "output_type": "execute_result"
    }
   ],
   "source": [
    "x = rng.bytes(50).decode('cp1250')\n",
    "type(x)\n"
   ]
  },
  {
   "cell_type": "markdown",
   "metadata": {},
   "source": [
    "\\xe2h\\x18\\x08\\x04\\xab\\xeco"
   ]
  },
  {
   "cell_type": "markdown",
   "metadata": {},
   "source": [
    "## Random permutations of sequences with `numpy.random`\n",
    "\n",
    "Three methods are provided for the random reordering of sequences: `shuffle`, `permutation`, and `permuted`."
   ]
  },
  {
   "cell_type": "markdown",
   "metadata": {},
   "source": [
    "### `numpy.random.Generator.shuffle`\n",
    "Signature: shuffle(x, axis=0)"
   ]
  },
  {
   "cell_type": "markdown",
   "metadata": {},
   "source": [
    "The `shuffle()` method shuffles an array-like in-place. If passed an *n-d* array, the `axis` parameter, which defaults to 0, determines which axis gets shuffled. For instance, in the case of a *2-d* array, `axis=0` causes the order of the rows to change without reordering the values within the rows, while `axis=1` reorders the columns without affecting element order within the columns."
   ]
  },
  {
   "cell_type": "markdown",
   "metadata": {},
   "source": [
    "### `numpy.random.Generator.permutation`\n",
    "Signature: `permutation(x, axis=0)"
   ]
  },
  {
   "cell_type": "markdown",
   "metadata": {},
   "source": [
    "If passed an int, $n$, the `permutation()` method generates an evenly spaced range of interval $[0, n)$ using `numpy.arange()`, shuffles then returns it as a *1-d* numpy array. Passed an *array-like*, the method shuffles a copy along the specified axis and returns the copy."
   ]
  },
  {
   "cell_type": "code",
   "execution_count": 19,
   "metadata": {},
   "outputs": [
    {
     "name": "stdout",
     "output_type": "stream",
     "text": [
      "[[88 87  6 93 78 12 47 67 76 97]\n",
      " [ 2 77 37 64 95 71 27 83 92 63]\n",
      " [75 41 69 66 30 17  4 20 91 46]\n",
      " [62 57 14 49 39 13 70 99 18 19]\n",
      " [55 74 84 58  0 94  1  5 79 45]\n",
      " [56 44 15 60 80  7 59 29 85  3]\n",
      " [11 68 34 24 28 48 10 53 86 51]\n",
      " [43 54 42 16 90 25 40 33 72 89]\n",
      " [98 65  9 23 32 96 31 50  8 26]\n",
      " [52 21 73 61 82 35 81 38 36 22]]\n"
     ]
    }
   ],
   "source": [
    "x = np.arange(100).reshape(10,10)\n",
    "y = rng.permutation(x.flatten()).reshape(10,10)\n",
    "print(y)"
   ]
  },
  {
   "cell_type": "markdown",
   "metadata": {},
   "source": [
    "### `numpy.random.Generator.permuted`\n",
    "Signature:`permuted(x, axis=None, out=None)`"
   ]
  },
  {
   "cell_type": "markdown",
   "metadata": {},
   "source": [
    "This method shuffles the passed *array-like* along the specified axis."
   ]
  },
  {
   "cell_type": "markdown",
   "metadata": {},
   "source": [
    "## Some distribution functions"
   ]
  },
  {
   "cell_type": "markdown",
   "metadata": {},
   "source": [
    "### 1. The normal distribution\n",
    "`random.Generator.normal()`\n",
    "$$ f(x)=\\frac{1}{\\sigma\\sqrt{2\\pi}}e^{-\\frac{1}{2}(\\frac{x-\\mu}{\\sigma})^2} $$"
   ]
  },
  {
   "cell_type": "markdown",
   "metadata": {},
   "source": [
    "### 2. The binomial distribution"
   ]
  },
  {
   "cell_type": "code",
   "execution_count": 35,
   "metadata": {},
   "outputs": [
    {
     "name": "stdout",
     "output_type": "stream",
     "text": [
      "0.500982\n",
      "0.249316\n",
      "0.125009\n",
      "0.062234\n",
      "0.031476\n",
      "0.015484\n",
      "0.007802\n",
      "0.003911\n",
      "0.001852\n",
      "0.00098\n"
     ]
    }
   ],
   "source": [
    "b = rng.geometric(0.5, 1000000)\n",
    "for z in range(1, 11):\n",
    "    print((b == z).sum() / 1000000)\n"
   ]
  },
  {
   "cell_type": "code",
   "execution_count": 40,
   "metadata": {},
   "outputs": [
    {
     "data": {
      "text/plain": [
       "array([0, 1])"
      ]
     },
     "execution_count": 40,
     "metadata": {},
     "output_type": "execute_result"
    }
   ],
   "source": [
    "bin = rng.binomial(1, 0.5, 1000000)\n",
    "# for z in range(1, 11):\n",
    "#     print((bin == z).sum() / 1000000)\n",
    "np.unique(bin)"
   ]
  },
  {
   "cell_type": "markdown",
   "metadata": {},
   "source": [
    "### 3. The standard student's t distribution "
   ]
  },
  {
   "cell_type": "markdown",
   "metadata": {},
   "source": [
    "### 4. The Zipf Distribution"
   ]
  },
  {
   "cell_type": "markdown",
   "metadata": {},
   "source": [
    "### 5. The Gumbel Distribution\n",
    "#### `random.Generator.gumbel`\n",
    "$$ p(x)=\\frac{e^{-(x-\\mu)/\\beta}}{\\beta}e^{-e^{-(x-\\mu)/\\beta}} $$"
   ]
  },
  {
   "cell_type": "markdown",
   "metadata": {},
   "source": [
    "## Seeds\n",
    "\n",
    "PCG64 Details\n",
    "Comparison between PCG64 and Mersenne Twister with focus on on performance (i.e. how does PCG64 outperform MT19937?)\n",
    "\n",
    "Setting seeds in numpy rng"
   ]
  },
  {
   "cell_type": "markdown",
   "metadata": {},
   "source": [
    "***\n",
    "## References\n",
    "\n",
    "## RNG General\n",
    "[1] https://www.pcg-random.org/rng-basics.html\n",
    "\n",
    "### PCG\n",
    "[2] Lemire, D., 2017, On Melissa O’Neill’s PCG random number generator, https://lemire.me/blog/2017/08/15/on-melissa-oneills-pcg-random-number-generator/\n",
    "\n",
    "[3] O' Neill, M., 2014, PCG, A Family of Better Random Number Generators, https://www.pcg-random.org/\n",
    "\n",
    "[4] O' Neill, M., 2014, PCG: A Family of Simple Fast Space-Efficient Statistically Good Algorithms for Random Number Generation, https://www.pcg-random.org/pdf/hmc-cs-2014-0905.\n",
    "\n",
    "### RNG Seeding\n",
    "[5] Woodcock, H., 2021, Stop using numpy.random.seed(), https://towardsdatascience.com/stop-using-numpy-random-seed-581a9972805f\n",
    "\n",
    "### Numpy Docs\n",
    "[7] https://numpy.org/doc/stable/reference/random/index.html\n",
    "\n",
    "[8] https://numpy.org/doc/stable/reference/random/bit_generators/index.html\n",
    "\n",
    "[9] https://numpy.org/doc/stable/reference/random/bit_generators/generated/numpy.random.BitGenerator.html"
   ]
  },
  {
   "cell_type": "markdown",
   "metadata": {},
   "source": []
  }
 ],
 "metadata": {
  "interpreter": {
   "hash": "da9e039210d5e53844848fc529c2cb75fb923182e70608e0bc692989d752dbae"
  },
  "kernelspec": {
   "display_name": "Python 3 (ipykernel)",
   "language": "python",
   "name": "python3"
  },
  "language_info": {
   "codemirror_mode": {
    "name": "ipython",
    "version": 3
   },
   "file_extension": ".py",
   "mimetype": "text/x-python",
   "name": "python",
   "nbconvert_exporter": "python",
   "pygments_lexer": "ipython3",
   "version": "3.9.7"
  }
 },
 "nbformat": 4,
 "nbformat_minor": 4
}
