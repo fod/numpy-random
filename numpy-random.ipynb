{
 "cells": [
  {
   "cell_type": "markdown",
   "metadata": {},
   "source": [
    "# The numpy.random Package\n",
    "\n",
    "## Overview\n",
    "Numpy.random is the sub-package of the numpy numerical computing Python package that deals with random (really pseudo-random [1]) number generation. Two classes `numpy.random.BitGenerator` and `numpy.random.Generator` are used together to generate pseudo random numbers. `Generator` can be instantiated in two ways;\n",
    "1. by calling the constructor with the name of the desired BitGenerator algorithm, or;\n",
    "1. by calling `numpy.random.default_rng()`, a convenience function which will return a `Generator` object instantiated with the default `BitGenerator`, currently PCG64 [1]  \n",
    "\n",
    "The second method is the one recommended by the numpy documentation [1].\n",
    "\n",
    "`numpy.random.BitGenerator` is the base class for all of the bit generators provided by the numpy package. It is an abstract class and so cannot be instantiated. Several BitGenerators are provided by numpy. Of particular interest are `PCG64`, the default `numpy.random` BitGenerator, and `MT19937`, also known as the *Mersenne Twister*[1], the Python language's standard BitGenerator[1]. The `BitGenerator` base class provides the attribute `seed` which is used to intialise whichever BitGenerator is instantiated so that the sequence of numbers it produces are deterministic and therefore reproduceable[8]. If no seed is passed one isgenerated from system entropy[9]. Where a seed is passed the `numpy.random.SeedSequence` class is used to derive the `BitGenerator`'s initial state [9]."
   ]
  },
  {
   "cell_type": "code",
   "execution_count": 18,
   "metadata": {},
   "outputs": [],
   "source": [
    "# Imports\n",
    "import numpy as np\n",
    "# Used to initilaise current default BitGenerator\n",
    "from numpy.random import default_rng\n",
    "# Used to initialise any available BitGenerator\n",
    "from numpy.random import Generator\n",
    "# Two of numpy's BitGenerators\n",
    "from numpy.random import PCG64, MT19937\n",
    "# For plotting distributions, etc\n",
    "import matplotlib.pyplot as plt"
   ]
  },
  {
   "cell_type": "markdown",
   "metadata": {},
   "source": [
    "Below is a demonstration of `numpy.random.default_rng()`. "
   ]
  },
  {
   "cell_type": "code",
   "execution_count": 19,
   "metadata": {},
   "outputs": [
    {
     "name": "stdout",
     "output_type": "stream",
     "text": [
      "Type returned by default_rng():\t\t<class 'numpy.random._generator.Generator'>\n",
      "BitGenerator returned by default_rng():\t<numpy.random._pcg64.PCG64 object at 0x7fddac21a0f0>\n"
     ]
    }
   ],
   "source": [
    "# Initialise Generator with default \n",
    "# BitGenerator (PCG64) with seed 0\n",
    "rng = default_rng(0)\n",
    "print(f\"Type returned by default_rng():\\t\\t{type(rng)}\")\n",
    "print(f\"BitGenerator returned by default_rng():\\t{rng.bit_generator}\")"
   ]
  },
  {
   "cell_type": "code",
   "execution_count": 20,
   "metadata": {},
   "outputs": [
    {
     "name": "stdout",
     "output_type": "stream",
     "text": [
      "State of BitGenerator returned by default_rng(0):\n"
     ]
    },
    {
     "data": {
      "text/plain": [
       "{'bit_generator': 'PCG64',\n",
       " 'state': {'state': 35399562948360463058890781895381311971,\n",
       "  'inc': 87136372517582989555478159403783844777},\n",
       " 'has_uint32': 0,\n",
       " 'uinteger': 0}"
      ]
     },
     "metadata": {},
     "output_type": "display_data"
    }
   ],
   "source": [
    "print(\"State of BitGenerator returned by default_rng(0):\")\n",
    "display(rng.bit_generator.state)"
   ]
  },
  {
   "cell_type": "code",
   "execution_count": 21,
   "metadata": {},
   "outputs": [
    {
     "name": "stdout",
     "output_type": "stream",
     "text": [
      "[8 6 5 2 3 0 0 0 1 8]\n",
      "{'state': 133411349017971402732463711865589153492, 'inc': 87136372517582989555478159403783844777}\n",
      "[6 9 5 6 9 7 6 5 5 9]\n",
      "{'state': 171367656177275072274709569355545309177, 'inc': 87136372517582989555478159403783844777}\n",
      "{'state': 171367656177275072274709569355545309177, 'inc': 87136372517582989555478159403783844777}\n"
     ]
    }
   ],
   "source": [
    "# Generate 10 integers using Generator \n",
    "print(rng.integers(0,10, 10))\n",
    "print(rng.bit_generator.state['state'])\n",
    "# Generate another 10 integers\n",
    "print(rng.integers(0,10, 10))\n",
    "print(rng.bit_generator.state['state'])\n",
    "print(rng.bit_generator.state['state'])"
   ]
  },
  {
   "cell_type": "code",
   "execution_count": 22,
   "metadata": {},
   "outputs": [
    {
     "name": "stdout",
     "output_type": "stream",
     "text": [
      "[8 6 5 2 3 0 0 0 1 8]\n",
      "[6 9 5 6 9 7 6 5 5 9]\n"
     ]
    }
   ],
   "source": [
    "generator = Generator(PCG64(0))\n",
    "print(generator.integers(0,10, 10))\n",
    "print(generator.integers(0,10, 10))"
   ]
  },
  {
   "cell_type": "code",
   "execution_count": 23,
   "metadata": {},
   "outputs": [
    {
     "name": "stdout",
     "output_type": "stream",
     "text": [
      "[11749869230777074271  4976686463289251617   755828109848996024\n",
      "   304881062738325533 15002187965291974971 16837368535893154894\n",
      " 11190454901533422207 13456836363123071557 10028111089635196863\n",
      " 17249041691996241901]\n"
     ]
    },
    {
     "data": {
      "text/plain": [
       "{'state': 171367656177275072274709569355545309177,\n",
       " 'inc': 87136372517582989555478159403783844777}"
      ]
     },
     "execution_count": 23,
     "metadata": {},
     "output_type": "execute_result"
    }
   ],
   "source": [
    "pcg64 = PCG64(0)\n",
    "print(pcg64.random_raw(10))\n",
    "pcg64.state['state']"
   ]
  },
  {
   "cell_type": "code",
   "execution_count": 24,
   "metadata": {},
   "outputs": [
    {
     "name": "stdout",
     "output_type": "stream",
     "text": [
      "324480140409182296392654660859815787002\n",
      "24743512970217247963138398328371326953\n"
     ]
    },
    {
     "data": {
      "text/plain": [
       "array([ 5710443400098873391,  3709837163510141559, 16053387027962705221,\n",
       "        2841913982300878565,  5844099058497373023, 16839166770220837364,\n",
       "        3963306467416645233, 17547354837411721871, 14881069919737232449,\n",
       "        1283817351080908622], dtype=uint64)"
      ]
     },
     "execution_count": 24,
     "metadata": {},
     "output_type": "execute_result"
    }
   ],
   "source": [
    "ss = np.random.SeedSequence()\n",
    "print(ss.entropy)\n",
    "ss2 = np.random.SeedSequence()\n",
    "print(ss2.entropy)\n",
    "ss.generate_state(10, 'uint64')"
   ]
  },
  {
   "cell_type": "markdown",
   "metadata": {},
   "source": [
    "## Creating simple random data with `numpy.random`\n",
    "The `Generator` class provides four methods for generating collections of random numbers when the probability distributions of those numbers is not important: `integers()`, which generates integers, `random()`, which generates floats,`choice()` which returns random selections from a passed list, and `bytes()`, which generates a string of random bytes."
   ]
  },
  {
   "cell_type": "markdown",
   "metadata": {},
   "source": [
    "### `numpy.random.Generator.integers()`\n",
    "Signature : `integers(low, high=None, size=None, dtype=np.int64, endpoint=False)`"
   ]
  },
  {
   "cell_type": "markdown",
   "metadata": {},
   "source": [
    "This method generates random integers in the range (`low`, `high`). It will return a single integer if called with one or two arguments. If called with one numeric argument, $a$ it will return an unsigned integer, $n$ such that $n{\\lt}a$, or, if the boolean argument `endpoint` is `True`, $n{\\le}a$. If called with two numeric arguments $a$, $b$, the integer $n$ will be $a{\\le}n{\\lt}b$, or $a{\\le}n{\\le}b$ if `endpoint=True`.\n",
    "\n",
    "The method will return an array of random integers in the desired range if given an argument for the `size` parameter. A single value will be interpreted as a length for a *1-d* array. A tuple will be interpreted as dimension sizes for an *n-d* array. Finally, an array-like data structure can be passed as the low or hig range arguments in which case each member of the array will be interpreted as the low or high value for that element of an array of random integers.\n",
    "\n",
    "The integers return by this method follow a discrete uniform distribution, meaning that each possible value is equally likely to occur."
   ]
  },
  {
   "cell_type": "code",
   "execution_count": 84,
   "metadata": {},
   "outputs": [
    {
     "name": "stdout",
     "output_type": "stream",
     "text": [
      "[84 28 58 ... 76 67 91]\n"
     ]
    },
    {
     "data": {
      "image/png": "[encoded data removed]",
      "text/plain": [
       "<Figure size 432x288 with 1 Axes>"
      ]
     },
     "metadata": {
      "needs_background": "light"
     },
     "output_type": "display_data"
    }
   ],
   "source": [
    "rng = default_rng(997878)\n",
    "ints = rng.integers(1, 101, 1000000)\n",
    "print(ints)\n",
    "plt.hist(ints)\n",
    "plt.show()"
   ]
  },
  {
   "cell_type": "code",
   "execution_count": 72,
   "metadata": {},
   "outputs": [
    {
     "data": {
      "text/plain": [
       "array([0, 2, 0, 6])"
      ]
     },
     "execution_count": 72,
     "metadata": {},
     "output_type": "execute_result"
    }
   ],
   "source": [
    "rng.integers((2,4,6,8))"
   ]
  },
  {
   "cell_type": "code",
   "execution_count": 103,
   "metadata": {},
   "outputs": [
    {
     "name": "stdout",
     "output_type": "stream",
     "text": [
      "[1 2 2 ... 1 6 2]\n"
     ]
    },
    {
     "data": {
      "image/png": "[encoded data removed]",
      "text/plain": [
       "<Figure size 432x288 with 1 Axes>"
      ]
     },
     "metadata": {
      "needs_background": "light"
     },
     "output_type": "display_data"
    }
   ],
   "source": [
    "die_rolls = rng.integers(1, 6, size=1000000, endpoint=True)\n",
    "print(die_rolls)\n",
    "plt.hist(die_rolls, bins=(1,2,3,4,5,6,7), align=\"left\", rwidth=0.9)\n",
    "plt.show()"
   ]
  },
  {
   "cell_type": "code",
   "execution_count": 40,
   "metadata": {},
   "outputs": [
    {
     "data": {
      "text/plain": [
       "<matplotlib.colorbar.Colorbar at 0x7fddac246790>"
      ]
     },
     "execution_count": 40,
     "metadata": {},
     "output_type": "execute_result"
    },
    {
     "data": {
      "image/png": "[encoded data removed]",
      "text/plain": [
       "<Figure size 432x288 with 2 Axes>"
      ]
     },
     "metadata": {
      "needs_background": "light"
     },
     "output_type": "display_data"
    }
   ],
   "source": [
    "import matplotlib.pyplot as plt\n",
    "plt.imshow(mat)\n",
    "plt.colorbar()"
   ]
  },
  {
   "cell_type": "markdown",
   "metadata": {},
   "source": [
    "### `random`"
   ]
  },
  {
   "cell_type": "markdown",
   "metadata": {},
   "source": [
    "### `choice`"
   ]
  },
  {
   "cell_type": "markdown",
   "metadata": {},
   "source": [
    "### `bytes`"
   ]
  },
  {
   "cell_type": "markdown",
   "metadata": {},
   "source": [
    "## Permutations"
   ]
  },
  {
   "cell_type": "markdown",
   "metadata": {},
   "source": [
    "### `shuffle`"
   ]
  },
  {
   "cell_type": "markdown",
   "metadata": {},
   "source": [
    "### `permute`"
   ]
  },
  {
   "cell_type": "markdown",
   "metadata": {},
   "source": [
    "### `permuted`"
   ]
  },
  {
   "cell_type": "markdown",
   "metadata": {},
   "source": [
    "## Some distribution functions"
   ]
  },
  {
   "cell_type": "markdown",
   "metadata": {},
   "source": [
    "### 1. The Gumbel Distribution\n",
    "#### `random.Generator.gumbel`\n",
    "$$ p(x)=\\frac{e^{-(x-\\mu)/\\beta}}{\\beta}e^{-e^{-(x-\\mu)/\\beta}} $$\n",
    "\n"
   ]
  },
  {
   "cell_type": "markdown",
   "metadata": {},
   "source": [
    "### 2."
   ]
  },
  {
   "cell_type": "markdown",
   "metadata": {},
   "source": [
    "### 3."
   ]
  },
  {
   "cell_type": "markdown",
   "metadata": {},
   "source": [
    "### 4."
   ]
  },
  {
   "cell_type": "markdown",
   "metadata": {},
   "source": [
    "### 5."
   ]
  },
  {
   "cell_type": "markdown",
   "metadata": {},
   "source": [
    "## Seeds\n",
    "\n",
    "PCG64 Details\n",
    "Comparison between PCG64 and Mersenne Twister with focus on on performance (i.e. how does PCG64 outperform MT19937?)\n",
    "\n",
    "Setting seeds in numpy rng"
   ]
  },
  {
   "cell_type": "markdown",
   "metadata": {},
   "source": [
    "***\n",
    "## References\n",
    "\n",
    "## RNG General\n",
    "[1] https://www.pcg-random.org/rng-basics.html\n",
    "\n",
    "### PCG\n",
    "[2] Lemire, D., 2017, On Melissa O’Neill’s PCG random number generator, https://lemire.me/blog/2017/08/15/on-melissa-oneills-pcg-random-number-generator/\n",
    "\n",
    "[3] O' Neill, M., 2014, PCG, A Family of Better Random Number Generators, https://www.pcg-random.org/\n",
    "\n",
    "[4] O' Neill, M., 2014, PCG: A Family of Simple Fast Space-Efficient Statistically Good Algorithms for Random Number Generation, https://www.pcg-random.org/pdf/hmc-cs-2014-0905.\n",
    "\n",
    "### RNG Seeding\n",
    "[5] Woodcock, H., 2021, Stop using numpy.random.seed(), https://towardsdatascience.com/stop-using-numpy-random-seed-581a9972805f\n",
    "\n",
    "### Numpy Docs\n",
    "[7] https://numpy.org/doc/stable/reference/random/index.html\n",
    "\n",
    "[8] https://numpy.org/doc/stable/reference/random/bit_generators/index.html\n",
    "\n",
    "[9] https://numpy.org/doc/stable/reference/random/bit_generators/generated/numpy.random.BitGenerator.html"
   ]
  },
  {
   "cell_type": "markdown",
   "metadata": {},
   "source": []
  }
 ],
 "metadata": {
  "interpreter": {
   "hash": "da9e039210d5e53844848fc529c2cb75fb923182e70608e0bc692989d752dbae"
  },
  "kernelspec": {
   "display_name": "Python 3 (ipykernel)",
   "language": "python",
   "name": "python3"
  },
  "language_info": {
   "codemirror_mode": {
    "name": "ipython",
    "version": 3
   },
   "file_extension": ".py",
   "mimetype": "text/x-python",
   "name": "python",
   "nbconvert_exporter": "python",
   "pygments_lexer": "ipython3",
   "version": "3.9.7"
  }
 },
 "nbformat": 4,
 "nbformat_minor": 4
}
